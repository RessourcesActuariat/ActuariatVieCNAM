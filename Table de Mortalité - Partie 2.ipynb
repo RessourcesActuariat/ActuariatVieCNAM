{
  "cells": [
    {
      "cell_type": "markdown",
      "id": "67980786",
      "metadata": {
        "id": "67980786"
      },
      "source": [
        "# Act102 - Mathématiques actuarielles fondamentales de l'assurance vie\n",
        "\n",
        "## Cours Table de Mortalité - Partie 2\n",
        "\n",
        "Guillaume Gorge 2022\n",
        "Cours du CNAM\n",
        "\n",
        "<!-- https://www.markdownguide.org/basic-syntax/ -->\n"
      ]
    },
    {
      "cell_type": "markdown",
      "id": "0b6dad7e",
      "metadata": {
        "id": "0b6dad7e"
      },
      "source": [
        "# On l'on essaye de créer une table de mortalité prédictive"
      ]
    },
    {
      "cell_type": "markdown",
      "id": "8f519885",
      "metadata": {
        "id": "8f519885"
      },
      "source": [
        "#### Initialisation du système python"
      ]
    },
    {
      "cell_type": "code",
      "execution_count": 1,
      "id": "4a6ffbea",
      "metadata": {
        "id": "4a6ffbea"
      },
      "outputs": [],
      "source": [
        "#import sys\n",
        "#Stat Panda\n",
        "#!{sys.executable} -m pip install pandas_profiling \n",
        "#Stat Assurance vie\n",
        "#!{sys.executable} -m pip install lifelines    \n",
        "#!{sys.executable} -m pip install seaborn  \n",
        "#!{sys.executable} -m pip install xlrd\n",
        "#!{sys.executable} -m pip install plotnine\n",
        "#pip install pylexis"
      ]
    },
    {
      "cell_type": "code",
      "execution_count": 12,
      "id": "9955e825",
      "metadata": {
        "id": "9955e825"
      },
      "outputs": [],
      "source": [
        "import os\n",
        "!pip install -q xlrd\n",
        "import pandas as pd\n",
        "\n",
        "# packages classiques pour gérer des données\n",
        "import pandas as pd\n",
        "import numpy as np\n",
        "\n",
        "# graphiques\n",
        "import matplotlib\n",
        "import matplotlib.pyplot as plt\n",
        "import seaborn as sns\n",
        "%matplotlib inline \n",
        "#option pour que les graphes apparaissent dans Jupyter\n",
        "\n",
        "# Stat sur Panda\n",
        "import pandas_profiling \n"
      ]
    },
    {
      "cell_type": "code",
      "execution_count": 3,
      "id": "33410284",
      "metadata": {
        "id": "33410284"
      },
      "outputs": [],
      "source": [
        "#option pour que les graphes apparaissent dans Jupyter\n",
        "%matplotlib inline "
      ]
    },
    {
      "cell_type": "markdown",
      "id": "1eb8b702",
      "metadata": {
        "id": "1eb8b702"
      },
      "source": [
        "#### Adresse des répertoires\n",
        "Adresse à personnaliser selon environnement"
      ]
    },
    {
      "cell_type": "code",
      "execution_count": 9,
      "id": "a2dfada5",
      "metadata": {
        "id": "a2dfada5"
      },
      "outputs": [],
      "source": [
        "BASE_PATH = 'C:/Users/guill/GitHub/RessourcesActuariat/ActuariatVieCNAM/DataActuariat'\n",
        "BASE_PATH = 'https://github.com/RessourcesActuariat/ActuariatVieCNAM/tree/main/DataActuariat'\n",
        "# image and mask directories\n",
        "DataName = f'{BASE_PATH}/FD_DEC_2019.csv'\n",
        "VarName = f'{BASE_PATH}/varmod_DEC_2019.csv'\n",
        "DataNameExpo = f'{BASE_PATH}/pop-totale-france-metro.xls'\n",
        "DataNameExpo='https://github.com/RessourcesActuariat/ActuariatVieCNAM/blob/main/DataActuariat/pop-totale-france-metro.xls?raw=true'"
      ]
    },
    {
      "cell_type": "code",
      "source": [
        "from google.colab import files\n",
        "file_id = '1Sv4ib5i7CKWhAHZkKg-uitIkS3xwxtXM'\n",
        "downloaded = drive.CreateFile({'id': file_id})\n",
        "downloaded.GetContentFile('exported.xlsx')"
      ],
      "metadata": {
        "id": "b9e5xZOFDbdC"
      },
      "id": "b9e5xZOFDbdC",
      "execution_count": 10,
      "outputs": []
    },
    {
      "cell_type": "code",
      "source": [
        "uploaded = files.upload()"
      ],
      "metadata": {
        "id": "-Ro4O2noDblT",
        "outputId": "e32e02e7-00c3-458d-c56b-8f2cb8a90529",
        "colab": {
          "resources": {
            "http://localhost:8080/nbextensions/google.colab/files.js": {
              "data": "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",
              "ok": true,
              "headers": [
                [
                  "content-type",
                  "application/javascript"
                ]
              ],
              "status": 200,
              "status_text": ""
            }
          },
          "base_uri": "https://localhost:8080/",
          "height": 142
        }
      },
      "id": "-Ro4O2noDblT",
      "execution_count": 14,
      "outputs": [
        {
          "output_type": "display_data",
          "data": {
            "text/html": [
              "\n",
              "     <input type=\"file\" id=\"files-90e89f5b-51ee-44ea-97f0-df808faed82c\" name=\"files[]\" multiple disabled\n",
              "        style=\"border:none\" />\n",
              "     <output id=\"result-90e89f5b-51ee-44ea-97f0-df808faed82c\">\n",
              "      Upload widget is only available when the cell has been executed in the\n",
              "      current browser session. Please rerun this cell to enable.\n",
              "      </output>\n",
              "      <script src=\"/nbextensions/google.colab/files.js\"></script> "
            ],
            "text/plain": [
              "<IPython.core.display.HTML object>"
            ]
          },
          "metadata": {}
        },
        {
          "output_type": "stream",
          "name": "stdout",
          "text": [
            "Saving FD_DEC_2019.csv to FD_DEC_2019.csv\n",
            "Saving pop-totale-france-metro.xls to pop-totale-france-metro.xls\n",
            "Saving varmod_DEC_2019.csv to varmod_DEC_2019.csv\n"
          ]
        }
      ]
    },
    {
      "cell_type": "code",
      "source": [
        "uploaded\n"
      ],
      "metadata": {
        "id": "WPUXIlYaREAH"
      },
      "id": "WPUXIlYaREAH",
      "execution_count": 15,
      "outputs": []
    },
    {
      "cell_type": "code",
      "execution_count": 13,
      "id": "067b6691",
      "metadata": {
        "id": "067b6691",
        "outputId": "0a5a9140-25f8-4d7c-c730-ab9613e6b464",
        "colab": {
          "base_uri": "https://localhost:8080/",
          "height": 467
        }
      },
      "outputs": [
        {
          "output_type": "error",
          "ename": "ImportError",
          "evalue": "ignored",
          "traceback": [
            "\u001b[0;31m---------------------------------------------------------------------------\u001b[0m",
            "\u001b[0;31mImportError\u001b[0m                               Traceback (most recent call last)",
            "\u001b[0;32m<ipython-input-13-52b820f7a99f>\u001b[0m in \u001b[0;36m<module>\u001b[0;34m()\u001b[0m\n\u001b[0;32m----> 1\u001b[0;31m \u001b[0mEXPOData\u001b[0m \u001b[0;34m=\u001b[0m \u001b[0mpd\u001b[0m\u001b[0;34m.\u001b[0m\u001b[0mread_excel\u001b[0m\u001b[0;34m(\u001b[0m\u001b[0mDataNameExpo\u001b[0m\u001b[0;34m)\u001b[0m\u001b[0;34m\u001b[0m\u001b[0;34m\u001b[0m\u001b[0m\n\u001b[0m\u001b[1;32m      2\u001b[0m \u001b[0;31m# A noter, nous avons fait quelques retraitements de forme sur le fichier pour simplifier sa lecture#EXPOData.head()\u001b[0m\u001b[0;34m\u001b[0m\u001b[0;34m\u001b[0m\u001b[0;34m\u001b[0m\u001b[0m\n",
            "\u001b[0;32m/usr/local/lib/python3.7/dist-packages/pandas/util/_decorators.py\u001b[0m in \u001b[0;36mwrapper\u001b[0;34m(*args, **kwargs)\u001b[0m\n\u001b[1;32m    309\u001b[0m                     \u001b[0mstacklevel\u001b[0m\u001b[0;34m=\u001b[0m\u001b[0mstacklevel\u001b[0m\u001b[0;34m,\u001b[0m\u001b[0;34m\u001b[0m\u001b[0;34m\u001b[0m\u001b[0m\n\u001b[1;32m    310\u001b[0m                 )\n\u001b[0;32m--> 311\u001b[0;31m             \u001b[0;32mreturn\u001b[0m \u001b[0mfunc\u001b[0m\u001b[0;34m(\u001b[0m\u001b[0;34m*\u001b[0m\u001b[0margs\u001b[0m\u001b[0;34m,\u001b[0m \u001b[0;34m**\u001b[0m\u001b[0mkwargs\u001b[0m\u001b[0;34m)\u001b[0m\u001b[0;34m\u001b[0m\u001b[0;34m\u001b[0m\u001b[0m\n\u001b[0m\u001b[1;32m    312\u001b[0m \u001b[0;34m\u001b[0m\u001b[0m\n\u001b[1;32m    313\u001b[0m         \u001b[0;32mreturn\u001b[0m \u001b[0mwrapper\u001b[0m\u001b[0;34m\u001b[0m\u001b[0;34m\u001b[0m\u001b[0m\n",
            "\u001b[0;32m/usr/local/lib/python3.7/dist-packages/pandas/io/excel/_base.py\u001b[0m in \u001b[0;36mread_excel\u001b[0;34m(io, sheet_name, header, names, index_col, usecols, squeeze, dtype, engine, converters, true_values, false_values, skiprows, nrows, na_values, keep_default_na, na_filter, verbose, parse_dates, date_parser, thousands, comment, skipfooter, convert_float, mangle_dupe_cols, storage_options)\u001b[0m\n\u001b[1;32m    362\u001b[0m     \u001b[0;32mif\u001b[0m \u001b[0;32mnot\u001b[0m \u001b[0misinstance\u001b[0m\u001b[0;34m(\u001b[0m\u001b[0mio\u001b[0m\u001b[0;34m,\u001b[0m \u001b[0mExcelFile\u001b[0m\u001b[0;34m)\u001b[0m\u001b[0;34m:\u001b[0m\u001b[0;34m\u001b[0m\u001b[0;34m\u001b[0m\u001b[0m\n\u001b[1;32m    363\u001b[0m         \u001b[0mshould_close\u001b[0m \u001b[0;34m=\u001b[0m \u001b[0;32mTrue\u001b[0m\u001b[0;34m\u001b[0m\u001b[0;34m\u001b[0m\u001b[0m\n\u001b[0;32m--> 364\u001b[0;31m         \u001b[0mio\u001b[0m \u001b[0;34m=\u001b[0m \u001b[0mExcelFile\u001b[0m\u001b[0;34m(\u001b[0m\u001b[0mio\u001b[0m\u001b[0;34m,\u001b[0m \u001b[0mstorage_options\u001b[0m\u001b[0;34m=\u001b[0m\u001b[0mstorage_options\u001b[0m\u001b[0;34m,\u001b[0m \u001b[0mengine\u001b[0m\u001b[0;34m=\u001b[0m\u001b[0mengine\u001b[0m\u001b[0;34m)\u001b[0m\u001b[0;34m\u001b[0m\u001b[0;34m\u001b[0m\u001b[0m\n\u001b[0m\u001b[1;32m    365\u001b[0m     \u001b[0;32melif\u001b[0m \u001b[0mengine\u001b[0m \u001b[0;32mand\u001b[0m \u001b[0mengine\u001b[0m \u001b[0;34m!=\u001b[0m \u001b[0mio\u001b[0m\u001b[0;34m.\u001b[0m\u001b[0mengine\u001b[0m\u001b[0;34m:\u001b[0m\u001b[0;34m\u001b[0m\u001b[0;34m\u001b[0m\u001b[0m\n\u001b[1;32m    366\u001b[0m         raise ValueError(\n",
            "\u001b[0;32m/usr/local/lib/python3.7/dist-packages/pandas/io/excel/_base.py\u001b[0m in \u001b[0;36m__init__\u001b[0;34m(self, path_or_buffer, engine, storage_options)\u001b[0m\n\u001b[1;32m   1231\u001b[0m         \u001b[0mself\u001b[0m\u001b[0;34m.\u001b[0m\u001b[0mstorage_options\u001b[0m \u001b[0;34m=\u001b[0m \u001b[0mstorage_options\u001b[0m\u001b[0;34m\u001b[0m\u001b[0;34m\u001b[0m\u001b[0m\n\u001b[1;32m   1232\u001b[0m \u001b[0;34m\u001b[0m\u001b[0m\n\u001b[0;32m-> 1233\u001b[0;31m         \u001b[0mself\u001b[0m\u001b[0;34m.\u001b[0m\u001b[0m_reader\u001b[0m \u001b[0;34m=\u001b[0m \u001b[0mself\u001b[0m\u001b[0;34m.\u001b[0m\u001b[0m_engines\u001b[0m\u001b[0;34m[\u001b[0m\u001b[0mengine\u001b[0m\u001b[0;34m]\u001b[0m\u001b[0;34m(\u001b[0m\u001b[0mself\u001b[0m\u001b[0;34m.\u001b[0m\u001b[0m_io\u001b[0m\u001b[0;34m,\u001b[0m \u001b[0mstorage_options\u001b[0m\u001b[0;34m=\u001b[0m\u001b[0mstorage_options\u001b[0m\u001b[0;34m)\u001b[0m\u001b[0;34m\u001b[0m\u001b[0;34m\u001b[0m\u001b[0m\n\u001b[0m\u001b[1;32m   1234\u001b[0m \u001b[0;34m\u001b[0m\u001b[0m\n\u001b[1;32m   1235\u001b[0m     \u001b[0;32mdef\u001b[0m \u001b[0m__fspath__\u001b[0m\u001b[0;34m(\u001b[0m\u001b[0mself\u001b[0m\u001b[0;34m)\u001b[0m\u001b[0;34m:\u001b[0m\u001b[0;34m\u001b[0m\u001b[0;34m\u001b[0m\u001b[0m\n",
            "\u001b[0;32m/usr/local/lib/python3.7/dist-packages/pandas/io/excel/_xlrd.py\u001b[0m in \u001b[0;36m__init__\u001b[0;34m(self, filepath_or_buffer, storage_options)\u001b[0m\n\u001b[1;32m     22\u001b[0m         \"\"\"\n\u001b[1;32m     23\u001b[0m         \u001b[0merr_msg\u001b[0m \u001b[0;34m=\u001b[0m \u001b[0;34m\"Install xlrd >= 1.0.0 for Excel support\"\u001b[0m\u001b[0;34m\u001b[0m\u001b[0;34m\u001b[0m\u001b[0m\n\u001b[0;32m---> 24\u001b[0;31m         \u001b[0mimport_optional_dependency\u001b[0m\u001b[0;34m(\u001b[0m\u001b[0;34m\"xlrd\"\u001b[0m\u001b[0;34m,\u001b[0m \u001b[0mextra\u001b[0m\u001b[0;34m=\u001b[0m\u001b[0merr_msg\u001b[0m\u001b[0;34m)\u001b[0m\u001b[0;34m\u001b[0m\u001b[0;34m\u001b[0m\u001b[0m\n\u001b[0m\u001b[1;32m     25\u001b[0m         \u001b[0msuper\u001b[0m\u001b[0;34m(\u001b[0m\u001b[0;34m)\u001b[0m\u001b[0;34m.\u001b[0m\u001b[0m__init__\u001b[0m\u001b[0;34m(\u001b[0m\u001b[0mfilepath_or_buffer\u001b[0m\u001b[0;34m,\u001b[0m \u001b[0mstorage_options\u001b[0m\u001b[0;34m=\u001b[0m\u001b[0mstorage_options\u001b[0m\u001b[0;34m)\u001b[0m\u001b[0;34m\u001b[0m\u001b[0;34m\u001b[0m\u001b[0m\n\u001b[1;32m     26\u001b[0m \u001b[0;34m\u001b[0m\u001b[0m\n",
            "\u001b[0;32m/usr/local/lib/python3.7/dist-packages/pandas/compat/_optional.py\u001b[0m in \u001b[0;36mimport_optional_dependency\u001b[0;34m(name, extra, errors, min_version)\u001b[0m\n\u001b[1;32m    139\u001b[0m                 \u001b[0;32mreturn\u001b[0m \u001b[0;32mNone\u001b[0m\u001b[0;34m\u001b[0m\u001b[0;34m\u001b[0m\u001b[0m\n\u001b[1;32m    140\u001b[0m             \u001b[0;32melif\u001b[0m \u001b[0merrors\u001b[0m \u001b[0;34m==\u001b[0m \u001b[0;34m\"raise\"\u001b[0m\u001b[0;34m:\u001b[0m\u001b[0;34m\u001b[0m\u001b[0;34m\u001b[0m\u001b[0m\n\u001b[0;32m--> 141\u001b[0;31m                 \u001b[0;32mraise\u001b[0m \u001b[0mImportError\u001b[0m\u001b[0;34m(\u001b[0m\u001b[0mmsg\u001b[0m\u001b[0;34m)\u001b[0m\u001b[0;34m\u001b[0m\u001b[0;34m\u001b[0m\u001b[0m\n\u001b[0m\u001b[1;32m    142\u001b[0m \u001b[0;34m\u001b[0m\u001b[0m\n\u001b[1;32m    143\u001b[0m     \u001b[0;32mreturn\u001b[0m \u001b[0mmodule\u001b[0m\u001b[0;34m\u001b[0m\u001b[0;34m\u001b[0m\u001b[0m\n",
            "\u001b[0;31mImportError\u001b[0m: Pandas requires version '1.2.0' or newer of 'xlrd' (version '1.1.0' currently installed).",
            "",
            "\u001b[0;31m---------------------------------------------------------------------------\u001b[0;32m\nNOTE: If your import is failing due to a missing package, you can\nmanually install dependencies using either !pip or !apt.\n\nTo view examples of installing some common dependencies, click the\n\"Open Examples\" button below.\n\u001b[0;31m---------------------------------------------------------------------------\u001b[0m\n"
          ],
          "errorDetails": {
            "actions": [
              {
                "action": "open_url",
                "actionText": "Open Examples",
                "url": "/notebooks/snippets/importing_libraries.ipynb"
              }
            ]
          }
        }
      ],
      "source": [
        "EXPOData = pd.read_excel(DataNameExpo)  \n",
        "# A noter, nous avons fait quelques retraitements de forme sur le fichier pour simplifier sa lecture#EXPOData.head()"
      ]
    },
    {
      "cell_type": "code",
      "execution_count": null,
      "id": "8b80e4f1",
      "metadata": {
        "id": "8b80e4f1"
      },
      "outputs": [],
      "source": [
        "# Fichier fourni par l'INSEE avec toutes les modalités\n",
        "VarDataName = pd.read_csv(VarName,sep=';')  # dictionnaire des variables\n",
        "# Fonction pour imprimer les modalités\n",
        "def ImprimeModalite(feature,dfName = VarDataName):\n",
        "    Mod = dfName.loc[dfName['COD_VAR']==feature]\n",
        "    display(Mod[['COD_MOD','LIB_MOD']])\n"
      ]
    },
    {
      "cell_type": "code",
      "execution_count": null,
      "id": "d8aae5c7",
      "metadata": {
        "scrolled": true,
        "id": "d8aae5c7"
      },
      "outputs": [],
      "source": [
        "DEATHData=pd.read_csv(DataName,sep=';')  \n"
      ]
    },
    {
      "cell_type": "code",
      "execution_count": null,
      "id": "293d750b",
      "metadata": {
        "id": "293d750b"
      },
      "outputs": [],
      "source": [
        "DEATHSynthese = DEATHData.groupby([\"SEXE\",\"ANAIS\"])['SEXE'].count().rename('NombreMorts').to_frame()"
      ]
    },
    {
      "cell_type": "code",
      "execution_count": null,
      "id": "92f6af4d",
      "metadata": {
        "scrolled": true,
        "id": "92f6af4d"
      },
      "outputs": [],
      "source": [
        "EXPOMORTData = pd.merge(EXPOData[['SEXE','ANAIS','AGE','EXPOSITION','CENSURE']], DEATHSynthese, on=['SEXE','ANAIS'], how='left')\n",
        "display(EXPOMORTData)"
      ]
    },
    {
      "cell_type": "code",
      "execution_count": null,
      "id": "0ae66caa",
      "metadata": {
        "id": "0ae66caa"
      },
      "outputs": [],
      "source": [
        "def CalculPxMethode2(df=EXPOMORTData):\n",
        "    df['Lx'] = df['EXPOSITION']\n",
        "    df['Lx1'] = df['EXPOSITION'] - df['NombreMorts']\n",
        "        # Selon la definition de Px\n",
        "    df['Px'] = df['Lx1']/df['Lx'] \n",
        "    df['Qx'] = (1-df['Lx1']/df['Lx']) \n",
        "\n",
        "\n",
        "\n",
        "CalculPxMethode2(df=EXPOMORTData)\n",
        "EXPOMORTData\n",
        "\n",
        "#df.expanding(..., method='table') pour travailler avec plusieurs variables"
      ]
    },
    {
      "cell_type": "markdown",
      "id": "e0a63a85",
      "metadata": {
        "id": "e0a63a85"
      },
      "source": [
        "# Extrapoler quand on n'a pas assez de données"
      ]
    },
    {
      "cell_type": "markdown",
      "id": "2f341a69",
      "metadata": {
        "id": "2f341a69"
      },
      "source": [
        "> La *table de mortalité statique*, périodique ou instantanée (ou « table de mortalité du moment ») permet de caractériser la mortalité d’une population à un moment précis, toutes générations confondues. Ce tableau suppose une certaine stabilité des décès dans le futur. \n",
        "\n",
        "\n",
        "> La *table dynamique ou prospective* (ou « table de mortalité par génération ») intègre l’âge et le temps dans la probabilité de décès. Elle est établie à partir d’une génération réelle (et non fictive comme la précédente table), observant les niveaux de mortalité réels en fonction de l’année de naissance. Si elle est plus représentative que l’autre, elle ne peut se construire qu’à la fin d’une génération ou par *extrapolation*.  \n",
        "[source](https://www.wedou.fr/definitions/tables-de-mortalite#:~:text=La%20table%20de%20mortalit%C3%A9%20statique,des%20d%C3%A9c%C3%A8s%20dans%20le%20futur.)"
      ]
    },
    {
      "cell_type": "markdown",
      "id": "8e6101e5",
      "metadata": {
        "id": "8e6101e5"
      },
      "source": [
        "### Diagramme de Lexis\n",
        "https://en.wikipedia.org/wiki/Lexis_diagram\n",
        "\n",
        "![image.png](attachment:image.png)\n",
        "\n",
        "\n",
        "source : [Lexis Diagram](https://link.springer.com/chapter/10.1007/978-3-319-64820-0_2)"
      ]
    },
    {
      "cell_type": "markdown",
      "id": "50a84c51",
      "metadata": {
        "id": "50a84c51"
      },
      "source": [
        "\n",
        "\n",
        "![image-3.png](attachment:image-3.png)\n"
      ]
    },
    {
      "cell_type": "markdown",
      "id": "c085bfac",
      "metadata": {
        "id": "c085bfac"
      },
      "source": [
        "Quelques exemples : \n",
        "* un effet \"covid\" sera un effet de période, touchant l'année 2020 et 2021\n",
        "* une guerre aura normalement un effet cohorte important, touchant les jeunes en âge de combattre\n",
        "* améliorer le risque en mobylette aura un effet âge (réduisant fortement la mortalité des 14-25 ans)"
      ]
    },
    {
      "cell_type": "markdown",
      "id": "f1f63c9b",
      "metadata": {
        "id": "f1f63c9b"
      },
      "source": [
        "![image-2.png](attachment:image-2.png)\n",
        "\n"
      ]
    },
    {
      "cell_type": "markdown",
      "id": "f20b21db",
      "metadata": {
        "id": "f20b21db"
      },
      "source": [
        "en dehors de l'effet age structurel, on voit que la déformation de la mortalité se fait par cohorte."
      ]
    },
    {
      "cell_type": "markdown",
      "id": "9a9e37f1",
      "metadata": {
        "id": "9a9e37f1"
      },
      "source": [
        " ### Exercice (compliqué) 10 points à se partager pour le groupe qui fait le travail (5 pts max par personne ;)\n",
        "    Les diagrammes de Lexis ne sont pas réellement programmés en Python alors qu'ils ne sont en R. \n",
        "    L'idée est de pouvoir graphiquer automatiquement la fig. 2.2 en plus du graphe sous jacent (on peut le faire via matrice colorée)"
      ]
    },
    {
      "cell_type": "code",
      "execution_count": null,
      "id": "b4109219",
      "metadata": {
        "scrolled": true,
        "id": "b4109219"
      },
      "outputs": [],
      "source": [
        " \n",
        "import pylexis\n",
        "from plotnine import ggplot, geom_point, aes, geom_violin,theme,theme_minimal,geom_jitter,geom_segment\n",
        "\n",
        "diagrammeLexis = pylexis.Diagram(1990, 2019, 30, 40)\n",
        "diagrammeLexis.lexis_fill('cohort', 1988, \"yellow\")\n",
        "diagrammeLexis.lexis_fill('year', 2000, \"gray\")\n",
        "\n",
        "\n",
        "def AjouterPersonne(df=DEATHSynthese):\n",
        "    df=df.reset_index()\n",
        "    df = df[(df['SEXE']==1)]\n",
        "    for index, row in df.iterrows():\n",
        "        age= 2019-row['ANAIS']\n",
        "        if age in range(30,40):diagrammeLexis.add_deaths(row['ANAIS'],2019,age,row['NombreMorts'])\n",
        "AjouterPersonne()   \n",
        "\n",
        "\n",
        "print(ggplot(EXPOData)\n",
        "      +aes(x='ANAIS', xend=2019, y=0, yend='AGE')+\n",
        "geom_segment(size=.4, colour=\"grey\")\n",
        "     )\n",
        " "
      ]
    },
    {
      "cell_type": "markdown",
      "id": "8cba1e60",
      "metadata": {
        "id": "8cba1e60"
      },
      "source": [
        "### *Extrapoler* ou *Interpoler* ?\n",
        "\n",
        "Ce qu'en pense Yann le Cun, l'un des fondateurs de l'Apprentissage profondu (deep learning)\n",
        "https://www.youtube.com/watch?v=86ib0sfdFtw\n",
        "\n",
        "> Pour opposer les deux, \n",
        "- Inter-poler, c'est quand on reste dans l'espace où on a des observations (par exemple, quelle est la probabilité de mourir dans l'année à 31.5 ans). Dans ce cas, le choix du modèle est moins important.\n",
        "- Extra-poler, c'est quand on quitte l'espace où on a des observations (\"quelle est la probabilité de mourir dans l'année d'une personne de 115 ans ?). Dans ce cadre, le choix du modèle est important."
      ]
    },
    {
      "cell_type": "markdown",
      "id": "2b98a31f",
      "metadata": {
        "id": "2b98a31f"
      },
      "source": [
        "## Gompetz, Makeham et Compagnie : les principaux modèles utilisés"
      ]
    },
    {
      "cell_type": "markdown",
      "id": "71461f83",
      "metadata": {
        "id": "71461f83"
      },
      "source": [
        "Avant de regarder les modèles utilisés, regardons les propriétés que nous avons pu établir : "
      ]
    },
    {
      "cell_type": "markdown",
      "id": "3d60da6a",
      "metadata": {
        "id": "3d60da6a"
      },
      "source": [
        "#### Propriété 1 : \n",
        "> $q_x$ croissant avec l'âge : chaque année, notre probabilité de mourir augmente.\n",
        "\n",
        "Cette propriété parait assez classique mais en pratique, elle n'est pas toujours respectée. Par exemple, on constate un mortalité importante des jeunes sur la route  : \n",
        "![image.png](attachment:image.png)\n",
        "\n",
        "qui a longtemps fait une \"bosse\" de surmortalité autour de 18-25 ans surtout pour les hommes : \n",
        "![image-2.png](attachment:image-2.png)\n",
        "\n",
        "\n",
        "Source : [Sécurité routière](https://www.onisr.securite-routiere.gouv.fr/etat-de-l-insecurite-routiere/bilans-annuels-de-la-securite-routiere/bilan-2019-de-la-securite-routiere#:~:text=La%20mortalit%C3%A9%20rapport%C3%A9e%20%C3%A0%20la,tu%C3%A9s%20par%20million%20d'habitants.)"
      ]
    },
    {
      "cell_type": "code",
      "execution_count": null,
      "id": "c0a199f9",
      "metadata": {
        "id": "c0a199f9"
      },
      "outputs": [],
      "source": [
        "EXPOMORTData[(EXPOMORTData['SEXE']==1) & (EXPOMORTData['AGE'].between(14, 30, inclusive = True) )]\n"
      ]
    },
    {
      "cell_type": "code",
      "execution_count": null,
      "id": "91030ae3",
      "metadata": {
        "id": "91030ae3"
      },
      "outputs": [],
      "source": [
        "ImprimeModalite('SEXE')"
      ]
    },
    {
      "cell_type": "markdown",
      "id": "6c734a1b",
      "metadata": {
        "id": "6c734a1b"
      },
      "source": [
        "### Et l'on revient à Duvillard !"
      ]
    },
    {
      "cell_type": "markdown",
      "id": "194f8f7b",
      "metadata": {
        "id": "194f8f7b"
      },
      "source": [
        "![image.png](attachment:image.png)"
      ]
    },
    {
      "cell_type": "markdown",
      "id": "1b7d9f69",
      "metadata": {
        "id": "1b7d9f69"
      },
      "source": [
        "Soit $ l_x= z= 1-\\frac{Kx}{y(x)}$. Le terme y(x) permet justement tenir compte de la propriété 1 en augmentant les décès avec l'âge."
      ]
    },
    {
      "cell_type": "markdown",
      "id": "09058400",
      "metadata": {
        "id": "09058400"
      },
      "source": [
        "### Définition du taux instantané de mortalité"
      ]
    },
    {
      "cell_type": "markdown",
      "id": "4fae70f9",
      "metadata": {
        "id": "4fae70f9"
      },
      "source": [
        "#### Rappel de la définition de $q_x$\n",
        "\n",
        "> Le taux de mortalité $q_{x,t}$ est la probabilité qu'une personne d'âge $x$ vivant au moment $t$ meurt dans l'année ($t$,$t+1$)"
      ]
    },
    {
      "cell_type": "markdown",
      "id": "c0923234",
      "metadata": {
        "id": "c0923234"
      },
      "source": [
        "Dans la pratique, le passage par des modèles paramétriques fait que l'on préfère utiliser un modèle continu et non un modèle instantané.\n",
        "\n",
        "\n",
        "\n"
      ]
    },
    {
      "cell_type": "markdown",
      "id": "77001c5a",
      "metadata": {
        "id": "77001c5a"
      },
      "source": [
        "#### Définition de la force de mortalité \n",
        "> On note la *force de mortalité* au moment $t$ pour les personnes d'age $x$ par $\\mu_{x,t}$. \n",
        "On peut aussi considérer cette force de mortalité $\\mu_{x,t}$ comme le *taux de mortalité instantané*. \n",
        "La probabilité qu'une personne soumise à cette force $\\mu_{x,t}$ meurt dans l'intervalle (t,t+dt) est approximativement $\\mu_{x,t}dt$ quand $dt$ est petit."
      ]
    },
    {
      "cell_type": "markdown",
      "id": "b2aa72f3",
      "metadata": {
        "id": "b2aa72f3"
      },
      "source": [
        "#### Exercice\n",
        "Démontrer La probabilité qu'une personne soumise à cette force $\\mu_{x,t}$ meurt dans l'intervalle (t,t+dt) est approximativement $\\mu_{x,t}dt$ quand $dt$ est petit en utilisant les développement limités.\n"
      ]
    },
    {
      "cell_type": "markdown",
      "id": "b3ebea53",
      "metadata": {
        "id": "b3ebea53"
      },
      "source": [
        "### Lien entre $\\mu_{x,t}$ et $q{x,t}$"
      ]
    },
    {
      "cell_type": "markdown",
      "id": "e47b99bb",
      "metadata": {
        "id": "e47b99bb"
      },
      "source": [
        "En considérant que $\\mu_{x,t}dt$ est constant entre $x$ et $x+1$, on peut démontrer que : \n",
        "    $$ q_{x,t} \\approx 1 - exp(-\\mu_{x,t}) $$"
      ]
    },
    {
      "cell_type": "markdown",
      "id": "ebd51739",
      "metadata": {
        "id": "ebd51739"
      },
      "source": [
        "#### Exercice\n",
        "Démontrer cette approximation. \n",
        "Element de réponse en note de page [^1]. \n",
        "\n",
        "\n",
        "\n",
        "[^1]: Element de réponse\n",
        "![image.png](attachment:image.png)"
      ]
    },
    {
      "cell_type": "markdown",
      "id": "6d6d6ac2",
      "metadata": {
        "id": "6d6d6ac2"
      },
      "source": [
        "### Modèle de Gompetz"
      ]
    },
    {
      "cell_type": "markdown",
      "id": "fde1f4ce",
      "metadata": {
        "id": "fde1f4ce"
      },
      "source": [
        "Gompertz (1825) a observé que la force de mortalité $\\mu_x$ , lorsqu'elle était tracée sur l'échelle logarithmique, était\n",
        "âge approximativement linéaire pendant la majeure partie de la vie adulte. \n",
        "![image.png](attachment:image.png)\n",
        "\n",
        "\n",
        "Ainsi, sur les données masculines américaines en 1960, on voit que le modèle de Gompertz semble s'adapter très bien aux données\n",
        "Pratiquement, $\\mu_x$  augmente de façon exponentielle avec l'âge :\n",
        "$$ \\mu_x = Bc^{x} $$ où $B$ et $c$ sont des constantes.\n",
        "\n",
        "* $\\mu_x$ respecte notre première propriété et augmente avec l'âge.\n",
        "\n",
        "Cependant, se pose le problème de prendre en compte les causes de décès qui ne seraient pas directement liées à l'âge.\n",
        "\n",
        "C'est ainsi que William Makeham propose d'extrapoler $\\mu_x$ aux grands âges sur la base d'une loi de Gompertz modifiée et tenant compte des causes de décès indépendantes de l'âge :\n",
        "$$ \\mu_x = A + Bc^{x} $$\n",
        "où $A$ est le risque de mourir pour l'ensemble des causes indépendantes de l'âge.\n",
        "\n",
        "source : [wikipedia](https://fr.wikipedia.org/wiki/Mod%C3%A8le_de_Gompertz)"
      ]
    },
    {
      "cell_type": "code",
      "execution_count": null,
      "id": "f7a4f492",
      "metadata": {
        "id": "f7a4f492"
      },
      "outputs": [],
      "source": [
        "# Fonction permettant de grapher en scatter plot un ou deux graphes\n",
        "def GraphiqueTaux(data,x1,y1,y2=None,titre=None,Varhue=None):\n",
        "    f, ax = plt.subplots(figsize=(7, 5))\n",
        "    sns.despine(f)\n",
        "    sns.scatterplot(data=data,x=x1, y=y1,\n",
        "                hue=Varhue,      \n",
        "                palette=\"ch:r=-.2,d=.3_r\" ,label=y1,\n",
        "                sizes=(1, 8), linewidth=0,\n",
        "                  ax=ax)\n",
        "    if y2 is not None:\n",
        "        sns.scatterplot(data=data,x=x1, y=y2,\n",
        "                palette=\"ch:r=-.2,d=.3_r\" ,label=y2,\n",
        "                sizes=(1, 8), linewidth=0,\n",
        "                  ax=ax)\n",
        "    ax.set_title(titre)\n",
        "    ax.legend()     \n",
        "\n",
        "\n"
      ]
    },
    {
      "cell_type": "code",
      "execution_count": null,
      "id": "bc96086f",
      "metadata": {
        "id": "bc96086f"
      },
      "outputs": [],
      "source": [
        "GraphiqueTaux(EXPOMORTData[(EXPOMORTData['SEXE']==1)],x1='AGE',y1='Qx',titre='Qx')"
      ]
    },
    {
      "cell_type": "markdown",
      "id": "c6c68c05",
      "metadata": {
        "id": "c6c68c05"
      },
      "source": [
        "en passant au log : \n",
        "    $$ log(\\mu_x) = log(B) + log(C)X$$\n",
        "    \n",
        "soit $$ log(\\mu_x) = b + cX$$ par un changement des paramêtres.\n",
        "    \n",
        "\n",
        "On peut donc estimer avec un modèle lineaire généralisé Poisson (du fait de l'indépendance entre les x,t) et avec lien *log*. C'est ce qu'on appelle le *lien canonique* pour une GLM avec une erreur de Poisson (à retenir car TRES Utilisé !).\n",
        "    \n",
        "  A noter que l'on peut travailler directement sur le nombre de décès en ajoutant un *offset* sur l'évolution de la population $e_{x,t}$ est une mesure de la taille moyenne de la population âgée de $x$ à la date de l'année civile t, exposition dite centrale au risque. \n",
        "    \n",
        "source :[Fitting models of mortality with generalized linear and\n",
        "non-linear models](http://www.macs.hw.ac.uk/~iain/research/Paper_2013.pdf)\n",
        "      $$ q_{x,t} \\approx 1 - exp(-\\mu_{x,t}) $$"
      ]
    },
    {
      "cell_type": "code",
      "execution_count": null,
      "id": "80277177",
      "metadata": {
        "id": "80277177"
      },
      "outputs": [],
      "source": [
        "EXPOMORTData['MUx'] = -np.log(-(EXPOMORTData['Qx']-1))"
      ]
    },
    {
      "cell_type": "code",
      "execution_count": null,
      "id": "b3952b3c",
      "metadata": {
        "id": "b3952b3c"
      },
      "outputs": [],
      "source": [
        "GraphiqueTaux(EXPOMORTData[(EXPOMORTData['SEXE']==1)],x1='AGE',y1='MUx',y2='Qx',titre='Comparaison entre Qx et Mux')"
      ]
    },
    {
      "cell_type": "markdown",
      "id": "9f440677",
      "metadata": {
        "id": "9f440677"
      },
      "source": [
        "On voit que $q_x$ et $\\mu_x$ sont très proches quand $q_x$ est stable."
      ]
    },
    {
      "cell_type": "markdown",
      "id": "f04f7abc",
      "metadata": {
        "id": "f04f7abc"
      },
      "source": [
        "### Modèle linéaire Généralisé\n",
        "\n",
        "Pour programmer en python un GLM : [video](https://www.youtube.com/watch?v=__oC5IRCFKI)"
      ]
    },
    {
      "cell_type": "markdown",
      "id": "adbd2bea",
      "metadata": {
        "id": "adbd2bea"
      },
      "source": [
        "source : [GLM](http://www.macs.hw.ac.uk/~iain/research/Paper_2013.pdf)"
      ]
    },
    {
      "cell_type": "code",
      "execution_count": null,
      "id": "9c3b2abc",
      "metadata": {
        "id": "9c3b2abc"
      },
      "outputs": [],
      "source": [
        "import statsmodels.api as sm\n",
        "\n",
        "def CalculGLM(data,VarX,VarY,dist=sm.families.Poisson,Fonctionlien=sm.families.links.log()):\n",
        "    Y = data[VarX]\n",
        "    X = data[VarY]\n",
        "\n",
        "    model = sm.GLM(Y,X,family=dist(link=Fonctionlien))\n",
        "    results = model.fit()\n",
        "    \n",
        "    return results"
      ]
    },
    {
      "cell_type": "code",
      "execution_count": null,
      "id": "08a6289f",
      "metadata": {
        "id": "08a6289f"
      },
      "outputs": [],
      "source": [
        "resultsPoisson= CalculGLM(data=EXPOMORTData[(EXPOMORTData['AGE'].between(0,100))],\n",
        "         VarX='MUx',\n",
        "         VarY=['AGE','SEXE'],\n",
        "         dist=sm.families.Poisson,Fonctionlien=sm.families.links.log())\n",
        "resultsPoisson.summary()"
      ]
    },
    {
      "cell_type": "code",
      "execution_count": null,
      "id": "3cc30269",
      "metadata": {
        "id": "3cc30269"
      },
      "outputs": [],
      "source": [
        "Resultat = EXPOMORTData[(EXPOMORTData['SEXE']==1)][['MUx','AGE','SEXE']]\n",
        "Resultat['MUxhat'] = resultsPoisson.predict(exog=y[['AGE','SEXE']])\n",
        "print(Resultat)"
      ]
    },
    {
      "cell_type": "code",
      "execution_count": null,
      "id": "acd9e062",
      "metadata": {
        "id": "acd9e062"
      },
      "outputs": [],
      "source": [
        "GraphiqueTaux(data=Resultat,x1='AGE',y1='MUx',y2='MUxhat',titre='Comparaison entre Mux observé et MUx Estimé')"
      ]
    },
    {
      "cell_type": "code",
      "execution_count": null,
      "id": "a05b60de",
      "metadata": {
        "id": "a05b60de"
      },
      "outputs": [],
      "source": [
        "from statsmodels.graphics.api import abline_plot\n",
        "\n",
        "#fig, ax = plt.subplots()\n",
        " \n",
        "line_fit = sm.OLS(y['MUx'],sm.add_constant(y['MUxhat'], prepend=True)).fit()\n",
        "fig=abline_plot(model_results=line_fit)\n",
        "\n",
        "ax = fig.axes[0]\n",
        "ax.scatter(y['MUxhat'], y['MUx'])\n",
        "ax.margins(.1)\n",
        "ax.set_title('Model Fit Plot - Données masculines seulement')\n",
        "ax.set_ylabel('Observed values')\n",
        "ax.set_xlabel('Fitted values');\n",
        "plt.show()\n",
        "\n"
      ]
    },
    {
      "cell_type": "markdown",
      "id": "d5b21edc",
      "metadata": {
        "id": "d5b21edc"
      },
      "source": [
        "Le modèle de Gompertz ne capture pas la très forte augmentation à 80 ans."
      ]
    },
    {
      "cell_type": "markdown",
      "id": "32239fe6",
      "metadata": {
        "id": "32239fe6"
      },
      "source": [
        "#### Exercice (compliqué) \n",
        "Montrer qu'il est équivalent d'utiliser un modèle GLM avec $Y=q_x$, une distribution binomiale et une fonction Link cloglog \n",
        "[solution](http://www.macs.hw.ac.uk/~iain/research/Paper_2013.pdf)"
      ]
    },
    {
      "cell_type": "code",
      "execution_count": null,
      "id": "cc620baf",
      "metadata": {
        "id": "cc620baf"
      },
      "outputs": [],
      "source": [
        "resultsBinomialQx = CalculGLM(data=EXPOMORTData[(EXPOMORTData['AGE'].between(0,100))],\n",
        "         VarX='Qx',\n",
        "         VarY=['AGE','SEXE'],\n",
        "         dist=sm.families.Binomial,\n",
        "         Fonctionlien=sm.families.links.cloglog())\n",
        "resultsBinomialQx.summary()\n"
      ]
    },
    {
      "cell_type": "code",
      "execution_count": null,
      "id": "e9f742c9",
      "metadata": {
        "scrolled": true,
        "id": "e9f742c9"
      },
      "outputs": [],
      "source": [
        "Resultat = EXPOMORTData[(EXPOMORTData['SEXE']==1)][['Qx','AGE','SEXE']]\n",
        "Resultat['Qxhat'] = resultsBinomialQx.predict(exog=y[['AGE','SEXE']])\n",
        "print(Resultat)"
      ]
    },
    {
      "cell_type": "code",
      "execution_count": null,
      "id": "52513d30",
      "metadata": {
        "id": "52513d30"
      },
      "outputs": [],
      "source": [
        "GraphiqueTaux(data=Resultat,x1='AGE',y1='Qx',y2='Qxhat',titre='Comparaison entre Qx observé et Qx Estimé')"
      ]
    },
    {
      "cell_type": "markdown",
      "id": "088ff822",
      "metadata": {
        "id": "088ff822"
      },
      "source": [
        "# Modèle de Cox : intégrer l'evolution de l'espérance de vie"
      ]
    },
    {
      "cell_type": "markdown",
      "id": "c53a1ae3",
      "metadata": {
        "id": "c53a1ae3"
      },
      "source": [
        "#### import de Lifeline\n",
        "https://lifelines.readthedocs.io/en/latest/\n",
        "lifelines is a complete survival analysis library, written in pure Python. \n"
      ]
    },
    {
      "cell_type": "code",
      "execution_count": null,
      "id": "999fda05",
      "metadata": {
        "id": "999fda05"
      },
      "outputs": [],
      "source": [
        "from lifelines import CoxPHFitter\n",
        "from lifelines import KaplanMeierFitter"
      ]
    },
    {
      "cell_type": "code",
      "execution_count": null,
      "id": "67c2983c",
      "metadata": {
        "id": "67c2983c"
      },
      "outputs": [],
      "source": [
        "\n",
        "from lifelines.datasets import load_rossi\n",
        "\n",
        "rossi = load_rossi()\n",
        "rossi\n",
        "\n"
      ]
    },
    {
      "cell_type": "code",
      "execution_count": null,
      "id": "85cce27f",
      "metadata": {
        "scrolled": true,
        "id": "85cce27f"
      },
      "outputs": [],
      "source": [
        "\n",
        "cph = CoxPHFitter()\n",
        "cph.fit(rossi, duration_col='week', event_col='arrest')\n",
        "\n",
        "cph.print_summary()  # access the individual results using cph.summary"
      ]
    },
    {
      "cell_type": "code",
      "execution_count": null,
      "id": "4e6b1366",
      "metadata": {
        "id": "4e6b1366"
      },
      "outputs": [],
      "source": [
        "# https://lifelines.readthedocs.io/en/latest/Survival%20Regression.html\n",
        "cph = CoxPHFitter()\n",
        "cph.fit(EXPOMORTData[(EXPOMORTData['AGE'].between(0,100))], duration_col='AGE', event_col='arrest')\n",
        "\n",
        "cph.print_summary()  # access the individual results using cph.summary"
      ]
    },
    {
      "cell_type": "markdown",
      "id": "65c7300d",
      "metadata": {
        "id": "65c7300d"
      },
      "source": [
        "# Espérances de vie"
      ]
    },
    {
      "cell_type": "markdown",
      "id": "df0896ba",
      "metadata": {
        "id": "df0896ba"
      },
      "source": [
        "Jusqu'à 80 ans..."
      ]
    },
    {
      "cell_type": "markdown",
      "id": "89b089b2",
      "metadata": {
        "id": "89b089b2"
      },
      "source": [
        "\n",
        "# Exercices\n",
        "\n",
        "\n",
        " "
      ]
    },
    {
      "cell_type": "markdown",
      "id": "0be5d029",
      "metadata": {
        "id": "0be5d029"
      },
      "source": [
        "![image.png](attachment:image.png)"
      ]
    },
    {
      "cell_type": "markdown",
      "id": "320988cd",
      "metadata": {
        "id": "320988cd"
      },
      "source": [
        "## Le viager"
      ]
    },
    {
      "cell_type": "markdown",
      "id": "da273704",
      "metadata": {
        "id": "da273704"
      },
      "source": [
        "[source](https://fr.wikipedia.org/wiki/Jeanne_Calment)\n"
      ]
    },
    {
      "cell_type": "markdown",
      "id": "fa8f3e19",
      "metadata": {
        "id": "fa8f3e19"
      },
      "source": [
        "https://fr.wikipedia.org/wiki/Jeanne_Calment#/media/Fichier:Doyens_humanit%C3%A9.png"
      ]
    },
    {
      "cell_type": "markdown",
      "id": "418a9333",
      "metadata": {
        "id": "418a9333"
      },
      "source": [
        "![image.png](attachment:image.png)"
      ]
    },
    {
      "cell_type": "markdown",
      "id": "de0e7b77",
      "metadata": {
        "id": "de0e7b77"
      },
      "source": [
        "Madame Jeanne Calment, 90 ans, souhaite mettre sa maison en viager : \n",
        "![image.png](attachment:image.png)\n",
        "\n",
        "Quelle espérance de vie calculez vous ?"
      ]
    },
    {
      "cell_type": "markdown",
      "id": "e360f006",
      "metadata": {
        "id": "e360f006"
      },
      "source": [
        "# Et si on ajoutait un état ?"
      ]
    },
    {
      "cell_type": "code",
      "execution_count": null,
      "id": "a52f9eb4",
      "metadata": {
        "id": "a52f9eb4"
      },
      "outputs": [],
      "source": [
        ""
      ]
    }
  ],
  "metadata": {
    "kernelspec": {
      "display_name": "Python 3 (ipykernel)",
      "language": "python",
      "name": "python3"
    },
    "language_info": {
      "codemirror_mode": {
        "name": "ipython",
        "version": 3
      },
      "file_extension": ".py",
      "mimetype": "text/x-python",
      "name": "python",
      "nbconvert_exporter": "python",
      "pygments_lexer": "ipython3",
      "version": "3.8.8"
    },
    "colab": {
      "name": "Table de Mortalité - Partie 2.ipynb",
      "provenance": []
    }
  },
  "nbformat": 4,
  "nbformat_minor": 5
}