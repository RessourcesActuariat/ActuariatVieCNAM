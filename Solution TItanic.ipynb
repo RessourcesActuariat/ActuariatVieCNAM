{
 "cells": [
  {
   "cell_type": "code",
   "execution_count": 25,
   "id": "84e5bed6",
   "metadata": {},
   "outputs": [],
   "source": [
    "import seaborn as sns\n",
    "import numpy as np"
   ]
  },
  {
   "cell_type": "markdown",
   "id": "5519aa67",
   "metadata": {},
   "source": [
    "####  Lecture du fichier"
   ]
  },
  {
   "cell_type": "code",
   "execution_count": 26,
   "id": "1550e377",
   "metadata": {},
   "outputs": [],
   "source": [
    "### Le fichier des stats : \n",
    "titanic = sns.load_dataset('titanic')\n",
    "titanic['age'] = np.round(titanic['age'] )"
   ]
  },
  {
   "cell_type": "code",
   "execution_count": 27,
   "id": "5fd24a5c",
   "metadata": {
    "scrolled": true
   },
   "outputs": [
    {
     "data": {
      "text/plain": [
       "<AxesSubplot:xlabel='sex', ylabel='age'>"
      ]
     },
     "execution_count": 27,
     "metadata": {},
     "output_type": "execute_result"
    },
    {
     "data": {
      "image/png": "[encoded data removed]",
      "text/plain": [
       "<Figure size 432x288 with 1 Axes>"
      ]
     },
     "metadata": {},
     "output_type": "display_data"
    }
   ],
   "source": [
    "sns.set_theme(style=\"whitegrid\")\n",
    "\n",
    "\n",
    "sns.violinplot(y=\"age\", hue=\"alive\", x = 'sex',\n",
    "              data=titanic,\n",
    "              scale='count',\n",
    "               split=True,\n",
    "              palette='seismic',\n",
    "              inner='quartile')\n"
   ]
  },
  {
   "cell_type": "markdown",
   "id": "96a80629",
   "metadata": {},
   "source": [
    "On voit que la distribution des femmes est importante parmi les personnes vivantes"
   ]
  },
  {
   "cell_type": "code",
   "execution_count": 24,
   "id": "b953baef",
   "metadata": {},
   "outputs": [
    {
     "ename": "AttributeError",
     "evalue": "module 'numpy' has no attribute 'count'",
     "output_type": "error",
     "traceback": [
      "\u001b[1;31m---------------------------------------------------------------------------\u001b[0m",
      "\u001b[1;31mAttributeError\u001b[0m                            Traceback (most recent call last)",
      "Input \u001b[1;32mIn [24]\u001b[0m, in \u001b[0;36m<cell line: 6>\u001b[1;34m()\u001b[0m\n\u001b[0;32m      1\u001b[0m \u001b[38;5;28;01mimport\u001b[39;00m \u001b[38;5;21;01mpandas\u001b[39;00m \u001b[38;5;28;01mas\u001b[39;00m \u001b[38;5;21;01mpd\u001b[39;00m\n\u001b[0;32m      4\u001b[0m tabletitanic \u001b[38;5;241m=\u001b[39m pd\u001b[38;5;241m.\u001b[39mpivot_table(titanic, values\u001b[38;5;241m=\u001b[39m\u001b[38;5;124m'\u001b[39m\u001b[38;5;124msurvived\u001b[39m\u001b[38;5;124m'\u001b[39m, index\u001b[38;5;241m=\u001b[39m[\u001b[38;5;124m'\u001b[39m\u001b[38;5;124mage\u001b[39m\u001b[38;5;124m'\u001b[39m,\u001b[38;5;124m'\u001b[39m\u001b[38;5;124msex\u001b[39m\u001b[38;5;124m'\u001b[39m], columns\u001b[38;5;241m=\u001b[39m\u001b[38;5;124m'\u001b[39m\u001b[38;5;124malive\u001b[39m\u001b[38;5;124m'\u001b[39m,\n\u001b[0;32m      5\u001b[0m                     aggfunc\u001b[38;5;241m=\u001b[39mnp\u001b[38;5;241m.\u001b[39mma\u001b[38;5;241m.\u001b[39mcount,fill_value\u001b[38;5;241m=\u001b[39m\u001b[38;5;241m0\u001b[39m)\n\u001b[1;32m----> 6\u001b[0m tabletitanic \u001b[38;5;241m=\u001b[39m  tabletitanic\u001b[38;5;241m.\u001b[39mgroupby([\u001b[38;5;124m\"\u001b[39m\u001b[38;5;124msex\u001b[39m\u001b[38;5;124m\"\u001b[39m,\u001b[38;5;124m\"\u001b[39m\u001b[38;5;124mage\u001b[39m\u001b[38;5;124m\"\u001b[39m])\u001b[38;5;241m.\u001b[39magg({\u001b[38;5;124m'\u001b[39m\u001b[38;5;124msurvived\u001b[39m\u001b[38;5;124m'\u001b[39m: [\u001b[43mnp\u001b[49m\u001b[38;5;241;43m.\u001b[39;49m\u001b[43mcount\u001b[49m, np\u001b[38;5;241m.\u001b[39msum]})\u001b[38;5;241m.\u001b[39mto_frame()\n\u001b[0;32m      7\u001b[0m \u001b[38;5;66;03m#tabletitanic = titanic.groupby([\"sex\",\"age\"])['survived'].count().rename('Total')['survived'].sum().rename('survived').to_frame() \u001b[39;00m\n\u001b[0;32m      8\u001b[0m \u001b[38;5;28;01mdef\u001b[39;00m \u001b[38;5;21mCalculPxMethode\u001b[39m(df\u001b[38;5;241m=\u001b[39mtabletitanic):\n",
      "File \u001b[1;32m~\\anaconda3\\envs\\Cours\\lib\\site-packages\\numpy\\__init__.py:315\u001b[0m, in \u001b[0;36m__getattr__\u001b[1;34m(attr)\u001b[0m\n\u001b[0;32m    312\u001b[0m     \u001b[38;5;28;01mfrom\u001b[39;00m \u001b[38;5;21;01m.\u001b[39;00m\u001b[38;5;21;01mtesting\u001b[39;00m \u001b[38;5;28;01mimport\u001b[39;00m Tester\n\u001b[0;32m    313\u001b[0m     \u001b[38;5;28;01mreturn\u001b[39;00m Tester\n\u001b[1;32m--> 315\u001b[0m \u001b[38;5;28;01mraise\u001b[39;00m \u001b[38;5;167;01mAttributeError\u001b[39;00m(\u001b[38;5;124m\"\u001b[39m\u001b[38;5;124mmodule \u001b[39m\u001b[38;5;132;01m{!r}\u001b[39;00m\u001b[38;5;124m has no attribute \u001b[39m\u001b[38;5;124m\"\u001b[39m\n\u001b[0;32m    316\u001b[0m                      \u001b[38;5;124m\"\u001b[39m\u001b[38;5;132;01m{!r}\u001b[39;00m\u001b[38;5;124m\"\u001b[39m\u001b[38;5;241m.\u001b[39mformat(\u001b[38;5;18m__name__\u001b[39m, attr))\n",
      "\u001b[1;31mAttributeError\u001b[0m: module 'numpy' has no attribute 'count'"
     ]
    }
   ],
   "source": [
    "import pandas as pd\n",
    "\n",
    "\n",
    "tabletitanic = pd.pivot_table(titanic, values='survived', index=['age','sex'], columns='alive',\n",
    "                    aggfunc=np.ma.count,fill_value=0)\n",
    "tabletitanic =  tabletitanic.groupby([\"sex\",\"age\"]).agg({'survived': [np.count, np.sum]}).to_frame()\n",
    "#tabletitanic = titanic.groupby([\"sex\",\"age\"])['survived'].count().rename('Total')['survived'].sum().rename('survived').to_frame() \n",
    "def CalculPxMethode(df=tabletitanic):\n",
    "    df['Lx'] = df['no']+df['yes']\n",
    "    df['Lx1'] = df['yes'] \n",
    "        # Selon la definition de Px\n",
    "    df['Px'] = df['Lx1']/df['Lx'] \n",
    "    df['Qx'] = (1-df['Lx1']/df['Lx']) \n",
    "#CalculPxMethode3(df=tabletitanic)\n",
    "#CalculPxMethode(df=tabletitanic)\n",
    "display(tabletitanic)\n",
    "\n",
    "display(tabletitanic.columns)\n",
    "#df.expanding(..., method='table') pour travailler avec plusieurs variables"
   ]
  },
  {
   "cell_type": "code",
   "execution_count": null,
   "id": "cf295efa",
   "metadata": {},
   "outputs": [],
   "source": []
  },
  {
   "cell_type": "code",
   "execution_count": 19,
   "id": "7a2e6a76",
   "metadata": {},
   "outputs": [
    {
     "name": "stdout",
     "output_type": "stream",
     "text": [
      "[[ 0.          4.          4.          4.          1.          0.        ]\n",
      " [ 2.          7.          9.          7.          0.77777778  0.22222222]\n",
      " [ 4.          2.          6.          2.          0.33333333  0.66666667]\n",
      " [ 3.          1.          4.          1.          0.25        0.75      ]\n",
      " [ 1.          1.          2.          1.          0.5         0.5       ]\n",
      " [ 0.          4.          4.          4.          1.          0.        ]\n",
      " [ 0.          5.          5.          5.          1.          0.        ]\n",
      " [ 3.          2.          5.          2.          0.4         0.6       ]\n",
      " [ 0.          4.          4.          4.          1.          0.        ]\n",
      " [ 1.          1.          2.          1.          0.5         0.5       ]\n",
      " [ 0.          1.          1.          1.          1.          0.        ]\n",
      " [ 0.          1.          1.          1.          1.          0.        ]\n",
      " [ 2.          0.          2.          0.          0.          1.        ]\n",
      " [ 1.          1.          2.          1.          0.5         0.5       ]\n",
      " [ 1.          1.          2.          1.          0.5         0.5       ]\n",
      " [ 4.          0.          4.          0.          0.          1.        ]\n",
      " [ 2.          2.          4.          2.          0.5         0.5       ]\n",
      " [ 1.          0.          1.          0.          0.          1.        ]\n",
      " [ 1.          0.          1.          0.          0.          1.        ]\n",
      " [ 1.          0.          1.          0.          0.          1.        ]\n",
      " [ 2.          1.          3.          1.          0.33333333  0.66666667]\n",
      " [ 0.          1.          1.          1.          1.          0.        ]\n",
      " [ 0.          2.          2.          2.          1.          0.        ]\n",
      " [ 2.          3.          5.          3.          0.6         0.4       ]\n",
      " [ 2.          0.          2.          0.          0.          1.        ]\n",
      " [ 0.          4.          4.          4.          1.          0.        ]\n",
      " [ 1.          0.          1.          0.          0.          1.        ]\n",
      " [ 1.          5.          6.          5.          0.83333333  0.16666667]\n",
      " [10.          1.         11.          1.          0.09090909  0.90909091]\n",
      " [ 1.          5.          6.          5.          0.83333333  0.16666667]\n",
      " [ 6.          1.          7.          1.          0.14285714  0.85714286]\n",
      " [ 5.          8.         13.          8.          0.61538462  0.38461538]\n",
      " [12.          1.         13.          1.          0.07692308  0.92307692]\n",
      " [ 0.          7.          7.          7.          1.          0.        ]\n",
      " [16.          2.         18.          2.          0.11111111  0.88888889]\n",
      " [ 2.          0.          2.          0.          0.          1.        ]\n",
      " [11.          3.         14.          3.          0.21428571  0.78571429]\n",
      " [ 3.          4.          7.          4.          0.57142857  0.42857143]\n",
      " [16.          1.         17.          1.          0.05882353  0.94117647]\n",
      " [ 2.         10.         12.         10.          0.83333333  0.16666667]\n",
      " [14.          1.         15.          1.          0.06666667  0.93333333]\n",
      " [ 1.          4.          5.          4.          0.8         0.2       ]\n",
      " [ 9.          1.         10.          1.          0.1         0.9       ]\n",
      " [ 2.         14.         16.         14.          0.875       0.125     ]\n",
      " [15.          1.         16.          1.          0.0625      0.9375    ]\n",
      " [ 3.          2.          5.          2.          0.4         0.6       ]\n",
      " [14.          4.         18.          4.          0.22222222  0.77777778]\n",
      " [ 2.          3.          5.          3.          0.6         0.4       ]\n",
      " [10.          3.         13.          3.          0.23076923  0.76923077]\n",
      " [ 1.          5.          6.          5.          0.83333333  0.16666667]\n",
      " [ 6.          6.         12.          6.          0.5         0.5       ]\n",
      " [ 2.          5.          7.          5.          0.71428571  0.28571429]\n",
      " [18.          2.         20.          2.          0.1         0.9       ]\n",
      " [ 2.          5.          7.          5.          0.71428571  0.28571429]\n",
      " [10.          3.         13.          3.          0.23076923  0.76923077]\n",
      " [ 3.          9.         12.          9.          0.75        0.25      ]\n",
      " [14.          1.         15.          1.          0.06666667  0.93333333]\n",
      " [ 2.          5.          7.          5.          0.71428571  0.28571429]\n",
      " [ 7.          3.         10.          3.          0.3         0.7       ]\n",
      " [ 1.          3.          4.          3.          0.75        0.25      ]\n",
      " [ 9.          7.         16.          7.          0.4375      0.5625    ]\n",
      " [ 0.          6.          6.          6.          1.          0.        ]\n",
      " [ 9.          0.          9.          0.          0.          1.        ]\n",
      " [ 0.          4.          4.          4.          1.          0.        ]\n",
      " [10.          2.         12.          2.          0.16666667  0.83333333]\n",
      " [ 0.          8.          8.          8.          1.          0.        ]\n",
      " [ 7.          3.         10.          3.          0.3         0.7       ]\n",
      " [ 0.          7.          7.          7.          1.          0.        ]\n",
      " [12.          4.         16.          4.          0.25        0.75      ]\n",
      " [ 1.          0.          1.          0.          0.          1.        ]\n",
      " [ 4.          1.          5.          1.          0.2         0.8       ]\n",
      " [ 1.          4.          5.          4.          0.8         0.2       ]\n",
      " [ 5.          1.          6.          1.          0.16666667  0.83333333]\n",
      " [ 2.          4.          6.          4.          0.66666667  0.33333333]\n",
      " [ 7.          1.          8.          1.          0.125       0.875     ]\n",
      " [ 1.          5.          6.          5.          0.83333333  0.16666667]\n",
      " [ 8.          1.          9.          1.          0.11111111  0.88888889]\n",
      " [ 2.          2.          4.          2.          0.5         0.5       ]\n",
      " [ 2.          0.          2.          0.          0.          1.        ]\n",
      " [ 0.          3.          3.          3.          1.          0.        ]\n",
      " [ 7.          3.         10.          3.          0.3         0.7       ]\n",
      " [ 1.          1.          2.          1.          0.5         0.5       ]\n",
      " [ 3.          0.          3.          0.          0.          1.        ]\n",
      " [ 1.          2.          3.          2.          0.66666667  0.33333333]\n",
      " [ 5.          1.          6.          1.          0.16666667  0.83333333]\n",
      " [ 3.          3.          6.          3.          0.5         0.5       ]\n",
      " [ 4.          2.          6.          2.          0.33333333  0.66666667]\n",
      " [ 5.          0.          5.          0.          0.          1.        ]\n",
      " [ 1.          1.          2.          1.          0.5         0.5       ]\n",
      " [ 7.          0.          7.          0.          0.          1.        ]\n",
      " [ 1.          3.          4.          3.          0.75        0.25      ]\n",
      " [ 2.          3.          5.          3.          0.6         0.4       ]\n",
      " [ 0.          2.          2.          2.          1.          0.        ]\n",
      " [ 2.          2.          4.          2.          0.5         0.5       ]\n",
      " [ 1.          4.          5.          4.          0.8         0.2       ]\n",
      " [ 4.          1.          5.          1.          0.2         0.8       ]\n",
      " [ 0.          1.          1.          1.          1.          0.        ]\n",
      " [ 5.          1.          6.          1.          0.16666667  0.83333333]\n",
      " [ 0.          2.          2.          2.          1.          0.        ]\n",
      " [ 3.          1.          4.          1.          0.25        0.75      ]\n",
      " [ 0.          1.          1.          1.          1.          0.        ]\n",
      " [ 0.          3.          3.          3.          1.          0.        ]\n",
      " [ 5.          0.          5.          0.          0.          1.        ]\n",
      " [ 0.          1.          1.          1.          1.          0.        ]\n",
      " [ 1.          0.          1.          0.          0.          1.        ]\n",
      " [ 0.          1.          1.          1.          1.          0.        ]\n",
      " [ 3.          1.          4.          1.          0.25        0.75      ]\n",
      " [ 1.          0.          1.          0.          0.          1.        ]\n",
      " [ 1.          0.          1.          0.          0.          1.        ]\n",
      " [ 0.          3.          3.          3.          1.          0.        ]\n",
      " [ 2.          0.          2.          0.          0.          1.        ]\n",
      " [ 2.          0.          2.          0.          0.          1.        ]\n",
      " [ 0.          1.          1.          1.          1.          0.        ]\n",
      " [ 2.          1.          3.          1.          0.33333333  0.66666667]\n",
      " [ 3.          0.          3.          0.          0.          1.        ]\n",
      " [ 0.          1.          1.          1.          1.          0.        ]\n",
      " [ 2.          1.          3.          1.          0.33333333  0.66666667]\n",
      " [ 0.          2.          2.          2.          1.          0.        ]\n",
      " [ 2.          0.          2.          0.          0.          1.        ]\n",
      " [ 3.          0.          3.          0.          0.          1.        ]\n",
      " [ 1.          0.          1.          0.          0.          1.        ]\n",
      " [ 3.          0.          3.          0.          0.          1.        ]\n",
      " [ 2.          0.          2.          0.          0.          1.        ]\n",
      " [ 1.          0.          1.          0.          0.          1.        ]\n",
      " [ 0.          1.          1.          1.          1.          0.        ]]\n"
     ]
    },
    {
     "ename": "TypeError",
     "evalue": "tuple indices must be integers or slices, not tuple",
     "output_type": "error",
     "traceback": [
      "\u001b[1;31m---------------------------------------------------------------------------\u001b[0m",
      "\u001b[1;31mTypeError\u001b[0m                                 Traceback (most recent call last)",
      "Input \u001b[1;32mIn [19]\u001b[0m, in \u001b[0;36m<cell line: 10>\u001b[1;34m()\u001b[0m\n\u001b[0;32m      8\u001b[0m f, ax \u001b[38;5;241m=\u001b[39m plt\u001b[38;5;241m.\u001b[39msubplots(figsize\u001b[38;5;241m=\u001b[39m(\u001b[38;5;241m7\u001b[39m, \u001b[38;5;241m5\u001b[39m))\n\u001b[0;32m      9\u001b[0m sns\u001b[38;5;241m.\u001b[39mdespine(f)\n\u001b[1;32m---> 10\u001b[0m x \u001b[38;5;241m=\u001b[39m \u001b[43mTable\u001b[49m\u001b[43m[\u001b[49m\u001b[43m:\u001b[49m\u001b[43m,\u001b[49m\u001b[38;5;241;43m1\u001b[39;49m\u001b[43m]\u001b[49m \u001b[38;5;66;03m# Age\u001b[39;00m\n\u001b[0;32m     11\u001b[0m hue \u001b[38;5;241m=\u001b[39m Table[:,\u001b[38;5;241m2\u001b[39m] \u001b[38;5;66;03m# Sex\u001b[39;00m\n\u001b[0;32m     12\u001b[0m y \u001b[38;5;241m=\u001b[39m Table[:,\u001b[38;5;241m8\u001b[39m]  \u001b[38;5;66;03m# Qx\u001b[39;00m\n",
      "\u001b[1;31mTypeError\u001b[0m: tuple indices must be integers or slices, not tuple"
     ]
    },
    {
     "data": {
      "image/png": "[encoded data removed]",
      "text/plain": [
       "<Figure size 504x360 with 1 Axes>"
      ]
     },
     "metadata": {},
     "output_type": "display_data"
    }
   ],
   "source": [
    "import numpy as np\n",
    "import matplotlib.pyplot as plt\n",
    "from scipy.interpolate import make_interp_spline\n",
    "tabletitanic.reset_index\n",
    "Table = tabletitanic.loc[1:].to_numpy() \n",
    "print(Table)\n",
    "Table = np.where(Table[:,2]==1)  #homme\n",
    "f, ax = plt.subplots(figsize=(7, 5))\n",
    "sns.despine(f)\n",
    "x = Table[:,1] # Age\n",
    "hue = Table[:,2] # Sex\n",
    "y = Table[:,8]  # Qx\n",
    "\n",
    "sns.scatterplot(x=x, y=y,\n",
    "                hue=hue,  \n",
    "                palette=\"ch:r=-.2,d=.3_r\" ,\n",
    "                sizes=(1, 8), linewidth=0,\n",
    "                  ax=ax)\n",
    " \n",
    "  \n",
    "xnew = np.linspace(x.min(), x.max(), 10)\n",
    "  \n",
    "gfg = make_interp_spline(x, y, k=2)\n",
    "  \n",
    "y_new = gfg(xnew)\n",
    "  \n",
    "plt.plot(xnew, y_new)\n",
    "  \n",
    "plt.show()"
   ]
  },
  {
   "cell_type": "code",
   "execution_count": null,
   "id": "1567f1d2",
   "metadata": {},
   "outputs": [],
   "source": [
    "#define a moving average function\n",
    "def moving_average(x,y,step_size=.1,bin_size=1):\n",
    "    bin_centers  = np.arange(np.min(x),np.max(x)-0.5*step_size,step_size)+0.5*step_size\n",
    "    bin_avg = np.zeros(len(bin_centers))\n",
    "\n",
    "    for index in range(0,len(bin_centers)):\n",
    "        bin_center = bin_centers[index]\n",
    "        items_in_bin = y[(x>(bin_center-bin_size*0.5) ) & (x<(bin_center+bin_size*0.5))]\n",
    "        bin_avg[index] = np.mean(items_in_bin)\n",
    "\n",
    "    return bin_centers,bin_avg\n",
    "\n",
    "#plot the moving average\n",
    "bins, average = moving_average(x,y)"
   ]
  },
  {
   "cell_type": "code",
   "execution_count": 30,
   "id": "f2ae091a",
   "metadata": {},
   "outputs": [
    {
     "data": {
      "text/plain": [
       "sex\n",
       "female    0.742038\n",
       "male      0.188908\n",
       "Name: survived, dtype: float64"
      ]
     },
     "execution_count": 30,
     "metadata": {},
     "output_type": "execute_result"
    }
   ],
   "source": [
    "titanic.groupby(['sex'])['survived'].mean()"
   ]
  },
  {
   "cell_type": "code",
   "execution_count": 47,
   "id": "7ae3cc1b",
   "metadata": {},
   "outputs": [
    {
     "data": {
      "text/plain": [
       "who\n",
       "child    0.590361\n",
       "man      0.163873\n",
       "woman    0.756458\n",
       "Name: survived, dtype: float64"
      ]
     },
     "execution_count": 47,
     "metadata": {},
     "output_type": "execute_result"
    }
   ],
   "source": [
    "titanic.groupby(['who'])['survived'].mean()"
   ]
  },
  {
   "cell_type": "code",
   "execution_count": 32,
   "id": "01b5ae44",
   "metadata": {},
   "outputs": [],
   "source": [
    "from formulaic import model_matrix # permet d'utiliser des formules comme dans R\n",
    "import pandas as pd\n",
    "from sklearn.linear_model import LogisticRegression\n",
    "import statsmodels.api as sm"
   ]
  },
  {
   "cell_type": "code",
   "execution_count": 51,
   "id": "3a0ea0d9",
   "metadata": {},
   "outputs": [],
   "source": [
    "def CalculGLMGraph(dataEntree,formula,dist=sm.families.Poisson,Fonctionlien=sm.families.links.log(),monOffset=None,ImpressionInfluence=False,\n",
    "                   VarY='MUx',VarXGraph='AGE',VarXGraphCateg='SEXE', VarPredict='MUxHat',  titre='Comparaison entre Mux observé et MUx Estimé',     \n",
    "      ):\n",
    "        # Mise en forme des données : on n'écrit pas sur la base d'entrée\n",
    "        df = dataEntree.copy()\n",
    "        y, X = model_matrix(formula,df) \n",
    "      \n",
    "        # GLM proprement dite\n",
    "        Result= sm.GLM(endog=y,exog=X,family=dist(link=Fonctionlien),offset=monOffset).fit()\n",
    "        display(Result.summary())\n",
    "        \n",
    "        \n",
    "        # Sortie des Stats d'influence (les points qui tirent les paramètres)\n",
    "        if ImpressionInfluence is True:\n",
    "            #Element d'influence\n",
    "            influence = Result.get_influence(observed=False)\n",
    "            cook_distance = influence.cooks_distance \n",
    "            (distance, p_value) = cook_distance\n",
    "            f, ax = plt.subplots(figsize=(7, 5))\n",
    "            sns.despine(f)\n",
    "            sns.scatterplot(x=df[VarXGraph], y=df[VarY], hue=distance, size=distance, sizes=(50, 200), edgecolor='black', linewidth=1)\n",
    "            ax.set_title('influence de chaque point') \n",
    "        \n",
    "        # Variable prédite calculée pour chaque observation puis graphée\n",
    "        df[VarPredict] = Result.predict(X,offset=monOffset)        \n",
    "        #GraphiqueTaux(data=df,x1=VarXGraph,y1=VarY,y2=VarPredict,Varhue=VarXGraphCateg,titre=titre)\n",
    "        return Result"
   ]
  },
  {
   "cell_type": "code",
   "execution_count": 52,
   "id": "9e2a2995",
   "metadata": {},
   "outputs": [
    {
     "data": {
      "text/plain": [
       "Index(['survived', 'pclass', 'sex', 'age', 'sibsp', 'parch', 'fare',\n",
       "       'embarked', 'class', 'who', 'adult_male', 'deck', 'embark_town',\n",
       "       'alive', 'alone'],\n",
       "      dtype='object')"
      ]
     },
     "execution_count": 52,
     "metadata": {},
     "output_type": "execute_result"
    }
   ],
   "source": [
    "titanic.columns"
   ]
  },
  {
   "cell_type": "code",
   "execution_count": 53,
   "id": "1b953d8e",
   "metadata": {},
   "outputs": [
    {
     "ename": "SyntaxError",
     "evalue": "invalid syntax (1202515894.py, line 1)",
     "output_type": "error",
     "traceback": [
      "\u001b[1;36m  Input \u001b[1;32mIn [53]\u001b[1;36m\u001b[0m\n\u001b[1;33m    titanic[]\u001b[0m\n\u001b[1;37m            ^\u001b[0m\n\u001b[1;31mSyntaxError\u001b[0m\u001b[1;31m:\u001b[0m invalid syntax\n"
     ]
    }
   ],
   "source": [
    "titanic[]"
   ]
  },
  {
   "cell_type": "code",
   "execution_count": 67,
   "id": "aa1c6a20",
   "metadata": {},
   "outputs": [
    {
     "data": {
      "text/html": [
       "<table class=\"simpletable\">\n",
       "<caption>Generalized Linear Model Regression Results</caption>\n",
       "<tr>\n",
       "  <th>Dep. Variable:</th>       <td>survived</td>     <th>  No. Observations:  </th>  <td>   714</td> \n",
       "</tr>\n",
       "<tr>\n",
       "  <th>Model:</th>                  <td>GLM</td>       <th>  Df Residuals:      </th>  <td>   709</td> \n",
       "</tr>\n",
       "<tr>\n",
       "  <th>Model Family:</th>        <td>Binomial</td>     <th>  Df Model:          </th>  <td>     4</td> \n",
       "</tr>\n",
       "<tr>\n",
       "  <th>Link Function:</th>         <td>logit</td>      <th>  Scale:             </th> <td>  1.0000</td>\n",
       "</tr>\n",
       "<tr>\n",
       "  <th>Method:</th>                <td>IRLS</td>       <th>  Log-Likelihood:    </th> <td> -323.67</td>\n",
       "</tr>\n",
       "<tr>\n",
       "  <th>Date:</th>            <td>Mon, 21 Mar 2022</td> <th>  Deviance:          </th> <td>  647.35</td>\n",
       "</tr>\n",
       "<tr>\n",
       "  <th>Time:</th>                <td>20:23:58</td>     <th>  Pearson chi2:      </th>  <td>  767.</td> \n",
       "</tr>\n",
       "<tr>\n",
       "  <th>No. Iterations:</th>          <td>5</td>        <th>  Pseudo R-squ. (CS):</th>  <td>0.3587</td> \n",
       "</tr>\n",
       "<tr>\n",
       "  <th>Covariance Type:</th>     <td>nonrobust</td>    <th>                     </th>     <td> </td>   \n",
       "</tr>\n",
       "</table>\n",
       "<table class=\"simpletable\">\n",
       "<tr>\n",
       "         <td></td>            <th>coef</th>     <th>std err</th>      <th>z</th>      <th>P>|z|</th>  <th>[0.025</th>    <th>0.975]</th>  \n",
       "</tr>\n",
       "<tr>\n",
       "  <th>Intercept</th>       <td>    3.7757</td> <td>    0.401</td> <td>    9.412</td> <td> 0.000</td> <td>    2.989</td> <td>    4.562</td>\n",
       "</tr>\n",
       "<tr>\n",
       "  <th>age</th>             <td>   -0.0369</td> <td>    0.008</td> <td>   -4.825</td> <td> 0.000</td> <td>   -0.052</td> <td>   -0.022</td>\n",
       "</tr>\n",
       "<tr>\n",
       "  <th>class[T.Second]</th> <td>   -1.3097</td> <td>    0.278</td> <td>   -4.710</td> <td> 0.000</td> <td>   -1.855</td> <td>   -0.765</td>\n",
       "</tr>\n",
       "<tr>\n",
       "  <th>class[T.Third]</th>  <td>   -2.5805</td> <td>    0.281</td> <td>   -9.167</td> <td> 0.000</td> <td>   -3.132</td> <td>   -2.029</td>\n",
       "</tr>\n",
       "<tr>\n",
       "  <th>sex[T.male]</th>     <td>   -2.5227</td> <td>    0.207</td> <td>  -12.165</td> <td> 0.000</td> <td>   -2.929</td> <td>   -2.116</td>\n",
       "</tr>\n",
       "</table>"
      ],
      "text/plain": [
       "<class 'statsmodels.iolib.summary.Summary'>\n",
       "\"\"\"\n",
       "                 Generalized Linear Model Regression Results                  \n",
       "==============================================================================\n",
       "Dep. Variable:               survived   No. Observations:                  714\n",
       "Model:                            GLM   Df Residuals:                      709\n",
       "Model Family:                Binomial   Df Model:                            4\n",
       "Link Function:                  logit   Scale:                          1.0000\n",
       "Method:                          IRLS   Log-Likelihood:                -323.67\n",
       "Date:                Mon, 21 Mar 2022   Deviance:                       647.35\n",
       "Time:                        20:23:58   Pearson chi2:                     767.\n",
       "No. Iterations:                     5   Pseudo R-squ. (CS):             0.3587\n",
       "Covariance Type:            nonrobust                                         \n",
       "===================================================================================\n",
       "                      coef    std err          z      P>|z|      [0.025      0.975]\n",
       "-----------------------------------------------------------------------------------\n",
       "Intercept           3.7757      0.401      9.412      0.000       2.989       4.562\n",
       "age                -0.0369      0.008     -4.825      0.000      -0.052      -0.022\n",
       "class[T.Second]    -1.3097      0.278     -4.710      0.000      -1.855      -0.765\n",
       "class[T.Third]     -2.5805      0.281     -9.167      0.000      -3.132      -2.029\n",
       "sex[T.male]        -2.5227      0.207    -12.165      0.000      -2.929      -2.116\n",
       "===================================================================================\n",
       "\"\"\""
      ]
     },
     "metadata": {},
     "output_type": "display_data"
    }
   ],
   "source": [
    "ResultGLM=CalculGLMGraph(dataEntree=titanic,\n",
    "         formula = 'survived ~ sex +class + age ',VarY='survived',VarXGraph='age', VarXGraphCateg='sex',ImpressionInfluence=False,VarPredict='survivedHat',  titre='Comparaison entre Mux observé et MUx Estimé',     \n",
    "         dist=sm.families.Binomial,Fonctionlien=sm.families.links.logit())  "
   ]
  },
  {
   "cell_type": "code",
   "execution_count": 68,
   "id": "25fb547d",
   "metadata": {},
   "outputs": [
    {
     "name": "stdout",
     "output_type": "stream",
     "text": [
      "   survived  age deck  who   sex  sibsp embarked  class\n",
      "0         0   15    G  man  male      0        Q  Third\n",
      "   Intercept  age\n",
      "0        1.0   15\n"
     ]
    },
    {
     "ename": "ValueError",
     "evalue": "shapes (1,2) and (5,) not aligned: 2 (dim 1) != 5 (dim 0)",
     "output_type": "error",
     "traceback": [
      "\u001b[1;31m---------------------------------------------------------------------------\u001b[0m",
      "\u001b[1;31mValueError\u001b[0m                                Traceback (most recent call last)",
      "Input \u001b[1;32mIn [68]\u001b[0m, in \u001b[0;36m<cell line: 10>\u001b[1;34m()\u001b[0m\n\u001b[0;32m      8\u001b[0m y, X \u001b[38;5;241m=\u001b[39m model_matrix(formula,dftest) \n\u001b[0;32m      9\u001b[0m \u001b[38;5;28mprint\u001b[39m(X)\n\u001b[1;32m---> 10\u001b[0m dftest[\u001b[38;5;124m'\u001b[39m\u001b[38;5;124mMUxhat\u001b[39m\u001b[38;5;124m'\u001b[39m] \u001b[38;5;241m=\u001b[39m \u001b[43mResultGLM\u001b[49m\u001b[38;5;241;43m.\u001b[39;49m\u001b[43mpredict\u001b[49m\u001b[43m(\u001b[49m\u001b[43mX\u001b[49m\u001b[43m)\u001b[49m  \n\u001b[0;32m     11\u001b[0m \u001b[38;5;28mprint\u001b[39m(dftest)\n",
      "File \u001b[1;32m~\\anaconda3\\envs\\Cours\\lib\\site-packages\\statsmodels\\base\\model.py:1159\u001b[0m, in \u001b[0;36mResults.predict\u001b[1;34m(self, exog, transform, *args, **kwargs)\u001b[0m\n\u001b[0;32m   1156\u001b[0m         exog \u001b[38;5;241m=\u001b[39m exog[:, \u001b[38;5;28;01mNone\u001b[39;00m]\n\u001b[0;32m   1157\u001b[0m     exog \u001b[38;5;241m=\u001b[39m np\u001b[38;5;241m.\u001b[39matleast_2d(exog)  \u001b[38;5;66;03m# needed in count model shape[1]\u001b[39;00m\n\u001b[1;32m-> 1159\u001b[0m predict_results \u001b[38;5;241m=\u001b[39m \u001b[38;5;28mself\u001b[39m\u001b[38;5;241m.\u001b[39mmodel\u001b[38;5;241m.\u001b[39mpredict(\u001b[38;5;28mself\u001b[39m\u001b[38;5;241m.\u001b[39mparams, exog, \u001b[38;5;241m*\u001b[39margs,\n\u001b[0;32m   1160\u001b[0m                                      \u001b[38;5;241m*\u001b[39m\u001b[38;5;241m*\u001b[39mkwargs)\n\u001b[0;32m   1162\u001b[0m \u001b[38;5;28;01mif\u001b[39;00m exog_index \u001b[38;5;129;01mis\u001b[39;00m \u001b[38;5;129;01mnot\u001b[39;00m \u001b[38;5;28;01mNone\u001b[39;00m \u001b[38;5;129;01mand\u001b[39;00m \u001b[38;5;129;01mnot\u001b[39;00m \u001b[38;5;28mhasattr\u001b[39m(predict_results,\n\u001b[0;32m   1163\u001b[0m                                           \u001b[38;5;124m'\u001b[39m\u001b[38;5;124mpredicted_values\u001b[39m\u001b[38;5;124m'\u001b[39m):\n\u001b[0;32m   1164\u001b[0m     \u001b[38;5;28;01mif\u001b[39;00m predict_results\u001b[38;5;241m.\u001b[39mndim \u001b[38;5;241m==\u001b[39m \u001b[38;5;241m1\u001b[39m:\n",
      "File \u001b[1;32m~\\anaconda3\\envs\\Cours\\lib\\site-packages\\statsmodels\\genmod\\generalized_linear_model.py:902\u001b[0m, in \u001b[0;36mGLM.predict\u001b[1;34m(self, params, exog, exposure, offset, linear)\u001b[0m\n\u001b[0;32m    899\u001b[0m \u001b[38;5;28;01mif\u001b[39;00m exog \u001b[38;5;129;01mis\u001b[39;00m \u001b[38;5;28;01mNone\u001b[39;00m:\n\u001b[0;32m    900\u001b[0m     exog \u001b[38;5;241m=\u001b[39m \u001b[38;5;28mself\u001b[39m\u001b[38;5;241m.\u001b[39mexog\n\u001b[1;32m--> 902\u001b[0m linpred \u001b[38;5;241m=\u001b[39m \u001b[43mnp\u001b[49m\u001b[38;5;241;43m.\u001b[39;49m\u001b[43mdot\u001b[49m\u001b[43m(\u001b[49m\u001b[43mexog\u001b[49m\u001b[43m,\u001b[49m\u001b[43m \u001b[49m\u001b[43mparams\u001b[49m\u001b[43m)\u001b[49m \u001b[38;5;241m+\u001b[39m offset \u001b[38;5;241m+\u001b[39m exposure\n\u001b[0;32m    903\u001b[0m \u001b[38;5;28;01mif\u001b[39;00m linear:\n\u001b[0;32m    904\u001b[0m     \u001b[38;5;28;01mreturn\u001b[39;00m linpred\n",
      "File \u001b[1;32m<__array_function__ internals>:180\u001b[0m, in \u001b[0;36mdot\u001b[1;34m(*args, **kwargs)\u001b[0m\n",
      "\u001b[1;31mValueError\u001b[0m: shapes (1,2) and (5,) not aligned: 2 (dim 1) != 5 (dim 0)"
     ]
    }
   ],
   "source": [
    "ResultGLM.summary()\n",
    "\n",
    "formula ='survived ~ sex +class + age'\n",
    "\n",
    "d = {'survived': [0], 'age': [15], 'deck' : ['G'], 'who':['man'], 'sex' :['male'],'sibsp':[0], 'embarked':['Q'],'class':['Third']}\n",
    "dftest = pd.DataFrame(data=d)\n",
    "print(dftest)\n",
    "y, X = model_matrix(formula,dftest) \n",
    "print(X)\n",
    "dftest['MUxhat'] = ResultGLM.predict(X)  \n",
    "print(dftest)"
   ]
  },
  {
   "cell_type": "code",
   "execution_count": null,
   "id": "7eb0e420",
   "metadata": {},
   "outputs": [],
   "source": []
  },
  {
   "cell_type": "code",
   "execution_count": null,
   "id": "860d2119",
   "metadata": {},
   "outputs": [],
   "source": []
  }
 ],
 "metadata": {
  "kernelspec": {
   "display_name": "Python 3 (ipykernel)",
   "language": "python",
   "name": "python3"
  },
  "language_info": {
   "codemirror_mode": {
    "name": "ipython",
    "version": 3
   },
   "file_extension": ".py",
   "mimetype": "text/x-python",
   "name": "python",
   "nbconvert_exporter": "python",
   "pygments_lexer": "ipython3",
   "version": "3.9.7"
  }
 },
 "nbformat": 4,
 "nbformat_minor": 5
}
